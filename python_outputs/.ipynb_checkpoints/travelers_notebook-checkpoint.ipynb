{
 "cells": [
  {
   "cell_type": "markdown",
   "metadata": {},
   "source": [
    "## This notebook contains Python code for analyzing data relevant to travelers"
   ]
  },
  {
   "cell_type": "code",
   "execution_count": null,
   "metadata": {},
   "outputs": [],
   "source": [
    "import pandas as pd\n",
    "import numpy as np\n",
    "\n",
    "import pymysql as mysql\n",
    "import getpass\n",
    "\n",
    "import matplotlib.pyplot as plt\n",
    "import seaborn as sns"
   ]
  },
  {
   "cell_type": "markdown",
   "metadata": {},
   "source": [
    "We need to connect to MySQL server, and specifically connect to the `ads507airlines` database. Then we verify the connection with a SQL command to show all tables."
   ]
  },
  {
   "cell_type": "code",
   "execution_count": null,
   "metadata": {},
   "outputs": [],
   "source": [
    "conn=mysql.connect(host='localhost',\n",
    "                   port=int(3306),\n",
    "                   user='root',\n",
    "                   passwd=getpass.getpass('Enter password: '),\n",
    "                   db='ads507airlines')"
   ]
  },
  {
   "cell_type": "code",
   "execution_count": null,
   "metadata": {},
   "outputs": [],
   "source": [
    "tableNames = pd.read_sql(\"\"\"SHOW TABLES\"\"\", conn)\n",
    "\n",
    "tableNames"
   ]
  },
  {
   "cell_type": "code",
   "execution_count": null,
   "metadata": {},
   "outputs": [],
   "source": [
    "for i in tableNames['Tables_in_ads507airlines']:\n",
    "    print(i)"
   ]
  },
  {
   "cell_type": "markdown",
   "metadata": {},
   "source": [
    "### Example for the traveler reviewing historical busy seasons for multiple destinations"
   ]
  },
  {
   "cell_type": "code",
   "execution_count": null,
   "metadata": {},
   "outputs": [],
   "source": [
    "query_string = \"\"\"\n",
    "SELECT *, 2018 as year FROM seasonal2018\n",
    "UNION\n",
    "SELECT *, 2019 as year FROM seasonal2019\n",
    "UNION\n",
    "SELECT *, 2020 as year FROM seasonal2020\n",
    "UNION\n",
    "SELECT *, 2021 as year FROM seasonal2021\n",
    "UNION\n",
    "SELECT *, 2022 as year FROM seasonal2022\n",
    ";\"\"\"\n",
    "\n",
    "seasonal_df = pd.read_sql(query_string, conn)\n",
    "\n",
    "seasonal_df"
   ]
  },
  {
   "cell_type": "code",
   "execution_count": null,
   "metadata": {},
   "outputs": [],
   "source": [
    "plt.figure(figsize=(12,4))\n",
    "sns.barplot(data=seasonal_df[seasonal_df['origin']=='IAH'],x='year',y='Scheduled_Flights_Count',\n",
    "            hue='season')\n",
    "plt.legend(loc='upper center')\n",
    "plt.title('Seasonal Flights from IAH Airport')\n",
    "plt.ylabel('Total Flights from IAH');"
   ]
  },
  {
   "cell_type": "code",
   "execution_count": null,
   "metadata": {},
   "outputs": [],
   "source": [
    "plt.figure(figsize=(12,4))\n",
    "sns.barplot(data=seasonal_df[seasonal_df['origin']=='JFK'],x='year',y='Scheduled_Flights_Count',\n",
    "            hue='season')\n",
    "plt.legend(loc='upper center')\n",
    "plt.title('Seasonal Flights from JFK Airport')\n",
    "plt.ylabel('Total Flights from JFK');"
   ]
  },
  {
   "cell_type": "code",
   "execution_count": null,
   "metadata": {},
   "outputs": [],
   "source": [
    "plt.figure(figsize=(12,5))\n",
    "sns.barplot(data=seasonal_df[seasonal_df['origin']=='SAN'],x='year',y='Scheduled_Flights_Count',\n",
    "            hue='season')\n",
    "plt.legend(loc='upper center')\n",
    "plt.title('Seasonal Flights from SAN Airport')\n",
    "plt.ylabel('Total Flights from SAN');"
   ]
  },
  {
   "cell_type": "code",
   "execution_count": null,
   "metadata": {},
   "outputs": [],
   "source": [
    "plt.figure(figsize=(12,5))\n",
    "sns.barplot(data=seasonal_df[seasonal_df['origin']=='SEA'],x='year',y='Scheduled_Flights_Count',\n",
    "            hue='season')\n",
    "plt.legend(loc='upper center')\n",
    "plt.title('Seasonal Flights from SEA Airport')\n",
    "plt.ylabel('Total Flights from SEA');"
   ]
  },
  {
   "cell_type": "markdown",
   "metadata": {},
   "source": [
    "### Example for the traveler who wants to understand average flight delays by airline"
   ]
  },
  {
   "cell_type": "code",
   "execution_count": null,
   "metadata": {},
   "outputs": [],
   "source": [
    "query_string = \"\"\"\n",
    "SELECT *, 2018 as year from yearly_delay2018\n",
    "UNION\n",
    "SELECT *, 2019 as year from yearly_delay2019\n",
    "UNION\n",
    "SELECT *, 2020 as year from yearly_delay2020\n",
    "UNION\n",
    "SELECT *, 2021 as year from yearly_delay2021\n",
    "UNION\n",
    "SELECT *, 2022 as year from yearly_delay2022;\"\"\"\n",
    "\n",
    "airlines_df = pd.read_sql(query_string, conn)\n",
    "\n",
    "airlines_df"
   ]
  },
  {
   "cell_type": "code",
   "execution_count": null,
   "metadata": {},
   "outputs": [],
   "source": [
    "pd.DataFrame(airlines_df.groupby('name')['total_delay'].mean()).reset_index().rename(columns={'name':'Airline','total_delay':'Average Delay'})"
   ]
  },
  {
   "cell_type": "markdown",
   "metadata": {},
   "source": [
    "### Example for the traveler who wants to see average flight delays by destination"
   ]
  },
  {
   "cell_type": "code",
   "execution_count": null,
   "metadata": {},
   "outputs": [],
   "source": [
    "query_string = \"\"\"\n",
    "SELECT *, 2018 as year from destinations_2018\n",
    "UNION\n",
    "SELECT *, 2019 as year from destinations_2019\n",
    "UNION\n",
    "SELECT *, 2020 as year from destinations_2020\n",
    "UNION\n",
    "SELECT *, 2021 as year from destinations_2021\n",
    "UNION\n",
    "SELECT *, 2022 as year from destinations_2022;\"\"\"\n",
    "\n",
    "destinations_df = pd.read_sql(query_string, conn)\n",
    "destinations_df"
   ]
  },
  {
   "cell_type": "code",
   "execution_count": null,
   "metadata": {},
   "outputs": [],
   "source": [
    "destinations_by_delay_df = pd.DataFrame(destinations_df.groupby(['List_of_Destinations','origin'])['Total_Delay'].mean())\n",
    "destinations_by_delay_df = destinations_by_delay_df.reset_index().rename(columns={'name':'Destination','Total_Delay':'Average Delay'})\n",
    "\n",
    "destinations_by_delay_df.sort_values(by=['origin','List_of_Destinations'])"
   ]
  },
  {
   "cell_type": "code",
   "execution_count": null,
   "metadata": {},
   "outputs": [],
   "source": []
  },
  {
   "cell_type": "code",
   "execution_count": null,
   "metadata": {},
   "outputs": [],
   "source": []
  },
  {
   "cell_type": "code",
   "execution_count": null,
   "metadata": {},
   "outputs": [],
   "source": []
  },
  {
   "cell_type": "code",
   "execution_count": null,
   "metadata": {},
   "outputs": [],
   "source": []
  },
  {
   "cell_type": "code",
   "execution_count": null,
   "metadata": {},
   "outputs": [],
   "source": [
    "query_string = \"\"\"\n",
    "SELECT *, 2018 as year FROM holidays_2018\n",
    "UNION\n",
    "SELECT *, 2019 as year FROM holidays_2019\n",
    "UNION\n",
    "SELECT *, 2020 as year FROM holidays_2020\n",
    "UNION\n",
    "SELECT *, 2021 as year FROM holidays_2021\n",
    "UNION\n",
    "SELECT *, 2022 as year FROM holidays_2022\n",
    ";\"\"\"\n",
    "\n",
    "holidays_df = pd.read_sql(query_string, conn)\n",
    "\n",
    "holidays_df"
   ]
  },
  {
   "cell_type": "code",
   "execution_count": null,
   "metadata": {},
   "outputs": [],
   "source": []
  }
 ],
 "metadata": {
  "kernelspec": {
   "display_name": "Python 3",
   "language": "python",
   "name": "python3"
  },
  "language_info": {
   "codemirror_mode": {
    "name": "ipython",
    "version": 3
   },
   "file_extension": ".py",
   "mimetype": "text/x-python",
   "name": "python",
   "nbconvert_exporter": "python",
   "pygments_lexer": "ipython3",
   "version": "3.8.5"
  }
 },
 "nbformat": 4,
 "nbformat_minor": 4
}
